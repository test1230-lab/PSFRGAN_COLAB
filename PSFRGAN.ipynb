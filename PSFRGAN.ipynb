{
  "nbformat": 4,
  "nbformat_minor": 0,
  "metadata": {
    "colab": {
      "name": "PSFRGAN.ipynb",
      "provenance": [],
      "collapsed_sections": [],
      "authorship_tag": "ABX9TyP/bXFMS2muc2CizIqiZ6pE",
      "include_colab_link": true
    },
    "kernelspec": {
      "name": "python3",
      "display_name": "Python 3"
    },
    "accelerator": "GPU"
  },
  "cells": [
    {
      "cell_type": "markdown",
      "metadata": {
        "id": "view-in-github",
        "colab_type": "text"
      },
      "source": [
        "<a href=\"https://colab.research.google.com/github/test1230-lab/PSFRGAN_COLAB/blob/master/PSFRGAN.ipynb\" target=\"_parent\"><img src=\"https://colab.research.google.com/assets/colab-badge.svg\" alt=\"Open In Colab\"/></a>"
      ]
    },
    {
      "cell_type": "markdown",
      "metadata": {
        "id": "iOlQKYLPVfiy"
      },
      "source": [
        "# **PSFRGAN Colab**\n",
        "\n"
      ]
    },
    {
      "cell_type": "markdown",
      "metadata": {
        "id": "PNmAaGHMVy_a"
      },
      "source": [
        "check gpu"
      ]
    },
    {
      "cell_type": "code",
      "metadata": {
        "id": "Hk9dqGZuIpYE",
        "outputId": "1e6f7cc8-2a75-4a7e-e358-3d7d74c65665",
        "colab": {
          "base_uri": "https://localhost:8080/",
          "height": 342
        }
      },
      "source": [
        "!nvidia-smi"
      ],
      "execution_count": 1,
      "outputs": [
        {
          "output_type": "stream",
          "text": [
            "Fri Sep 25 22:29:43 2020       \n",
            "+-----------------------------------------------------------------------------+\n",
            "| NVIDIA-SMI 450.66       Driver Version: 418.67       CUDA Version: 10.1     |\n",
            "|-------------------------------+----------------------+----------------------+\n",
            "| GPU  Name        Persistence-M| Bus-Id        Disp.A | Volatile Uncorr. ECC |\n",
            "| Fan  Temp  Perf  Pwr:Usage/Cap|         Memory-Usage | GPU-Util  Compute M. |\n",
            "|                               |                      |               MIG M. |\n",
            "|===============================+======================+======================|\n",
            "|   0  Tesla T4            Off  | 00000000:00:04.0 Off |                    0 |\n",
            "| N/A   38C    P8     9W /  70W |      0MiB / 15079MiB |      0%      Default |\n",
            "|                               |                      |                 ERR! |\n",
            "+-------------------------------+----------------------+----------------------+\n",
            "                                                                               \n",
            "+-----------------------------------------------------------------------------+\n",
            "| Processes:                                                                  |\n",
            "|  GPU   GI   CI        PID   Type   Process name                  GPU Memory |\n",
            "|        ID   ID                                                   Usage      |\n",
            "|=============================================================================|\n",
            "|  No running processes found                                                 |\n",
            "+-----------------------------------------------------------------------------+\n"
          ],
          "name": "stdout"
        }
      ]
    },
    {
      "cell_type": "markdown",
      "metadata": {
        "id": "-8U1BVIMV06P"
      },
      "source": [
        "make dirs and clone repo"
      ]
    },
    {
      "cell_type": "code",
      "metadata": {
        "id": "dOCXhFQi1Vjd",
        "outputId": "16b0bd9e-cf33-412a-c59e-9695d1dbb5f1",
        "colab": {
          "base_uri": "https://localhost:8080/",
          "height": 131
        }
      },
      "source": [
        "!git clone https://github.com/chaofengc/PSFRGAN\n",
        "%cd /content/PSFRGAN\n",
        "!mkdir test_dir_align_results\n",
        "!mkdir test_dir_unalign_results\n",
        "!mkdir test_dir_enhance_results\n",
        "!mkdir output\n",
        "!rm -r test_dir\n",
        "!rm -r testdir\n"
      ],
      "execution_count": 34,
      "outputs": [
        {
          "output_type": "stream",
          "text": [
            "fatal: destination path 'PSFRGAN' already exists and is not an empty directory.\n",
            "/content/PSFRGAN\n",
            "mkdir: cannot create directory ‘test_dir_align_results’: File exists\n",
            "mkdir: cannot create directory ‘test_dir_unalign_results’: File exists\n",
            "mkdir: cannot create directory ‘test_dir_enhance_results’: File exists\n",
            "mkdir: cannot create directory ‘output’: File exists\n",
            "rm: cannot remove 'test_dir': No such file or directory\n"
          ],
          "name": "stdout"
        }
      ]
    },
    {
      "cell_type": "markdown",
      "metadata": {
        "id": "-lzPYGU6V4KS"
      },
      "source": [
        "get model and unzip"
      ]
    },
    {
      "cell_type": "code",
      "metadata": {
        "id": "_PpzKV774NPk"
      },
      "source": [
        "!wget https://dl.dropbox.com/s/uh1bw7kxo9qrrnr/pretrain_models.zip\n",
        "!unzip /content/PSFRGAN/pretrain_models.zip "
      ],
      "execution_count": null,
      "outputs": []
    },
    {
      "cell_type": "markdown",
      "metadata": {
        "id": "yTODOMjbV7eA"
      },
      "source": [
        "get deps"
      ]
    },
    {
      "cell_type": "code",
      "metadata": {
        "id": "ABng_n02_NXK"
      },
      "source": [
        "!pip install tensorflow==1.15.0\n",
        "!pip install tensorboard==1.15.0\n",
        "!pip install tensorboardX==2.1\n",
        "!pip install scikit-image==0.17.2\n",
        "!pip install scipy==1.4.1\n",
        "!pip install dlib\n",
        "!pip install torch==1.6.0+cu92 torchvision==0.7.0+cu92 -f https://download.pytorch.org/whl/torch_stable.html\n",
        "!pip install imgaug"
      ],
      "execution_count": null,
      "outputs": []
    },
    {
      "cell_type": "markdown",
      "metadata": {
        "id": "cjcQpVvhV8gu"
      },
      "source": [
        "mount gdrive"
      ]
    },
    {
      "cell_type": "code",
      "metadata": {
        "id": "8clRdKgEFad3",
        "outputId": "6db7fecd-604b-46da-dfa6-160b3fb0380a",
        "colab": {
          "base_uri": "https://localhost:8080/",
          "height": 33
        }
      },
      "source": [
        "from google.colab import drive\n",
        "drive.mount(\"/content/drive\", force_remount=True)"
      ],
      "execution_count": 19,
      "outputs": [
        {
          "output_type": "stream",
          "text": [
            "Mounted at /content/drive\n"
          ],
          "name": "stdout"
        }
      ]
    },
    {
      "cell_type": "markdown",
      "metadata": {
        "id": "BZdvBh0mV-1J"
      },
      "source": [
        "unzip images"
      ]
    },
    {
      "cell_type": "code",
      "metadata": {
        "id": "FdXnocWyFrUn",
        "outputId": "cee2e61d-f4db-46b0-81f5-dc8396413665",
        "colab": {
          "base_uri": "https://localhost:8080/",
          "height": 521
        }
      },
      "source": [
        "!unzip \"/content/drive/My Drive/test_dir.zip\" "
      ],
      "execution_count": 35,
      "outputs": [
        {
          "output_type": "stream",
          "text": [
            "Archive:  /content/drive/My Drive/test_dir.zip\n",
            "  inflating: test_dir/00146_0.jpg    \n",
            "  inflating: test_dir/Aaron_Peirsol_0001.jpg  \n",
            "  inflating: test_dir/Aaron_Peirsol_0002.jpg  \n",
            "  inflating: test_dir/Aaron_Peirsol_0003.jpg  \n",
            "  inflating: test_dir/Aaron_Peirsol_0004.jpg  \n",
            "  inflating: test_dir/Aaron_Sorkin_0001.jpg  \n",
            "  inflating: test_dir/Aaron_Sorkin_0002.jpg  \n",
            "  inflating: test_dir/Abbas_Kiarostami_0001.jpg  \n",
            "  inflating: test_dir/Abdel_Aziz_Al-Hakim_0001.jpg  \n",
            "  inflating: test_dir/Abdel_Nasser_Assidi_0001.jpg  \n",
            "  inflating: test_dir/Abdel_Nasser_Assidi_0002.jpg  \n",
            "  inflating: test_dir/Abdoulaye_Wade_0004.jpg  \n",
            "  inflating: test_dir/Abdul_Majeed_Shobokshi_0001.jpg  \n",
            "  inflating: test_dir/Abdul_Rahman_0001.jpg  \n",
            "  inflating: test_dir/Abdullah_0001.jpg  \n",
            "  inflating: test_dir/Abdullah_0002.jpg  \n",
            "  inflating: test_dir/Abdullah_0003.jpg  \n",
            "  inflating: test_dir/Abdullah_0004.jpg  \n",
            "  inflating: test_dir/Abdullah_al-Attiyah_0001.jpg  \n",
            "  inflating: test_dir/Abdullah_al-Attiyah_0002.jpg  \n",
            "  inflating: test_dir/Abdullah_al-Attiyah_0003.jpg  \n",
            "  inflating: test_dir/Abdullah_Nasseef_0001.jpg  \n",
            "  inflating: test_dir/Abel_Pacheco_0001.jpg  \n",
            "  inflating: test_dir/Abel_Pacheco_0003.jpg  \n",
            "  inflating: test_dir/Abel_Pacheco_0004.jpg  \n",
            "  inflating: test_dir/Abner_Martinez_0001.jpg  \n",
            "  inflating: test_dir/Adam_Mair_0001.jpg  \n",
            "  inflating: test_dir/s4ekj9F.png    \n",
            "  inflating: test_dir/Solvay_conference_1927.jpg  \n",
            "  inflating: test_dir/test_hzgg.jpg  \n"
          ],
          "name": "stdout"
        }
      ]
    },
    {
      "cell_type": "markdown",
      "metadata": {
        "id": "1rySwxoXWBbz"
      },
      "source": [
        "crop and align"
      ]
    },
    {
      "cell_type": "code",
      "metadata": {
        "id": "7Bh7QdSuMIzN",
        "outputId": "506059d8-dcc6-4e7a-deb9-b69ac48061be",
        "colab": {
          "base_uri": "https://localhost:8080/",
          "height": 1000
        }
      },
      "source": [
        "!python align_and_crop_dir.py --src_dir test_dir --results_dir test_dir_align_results"
      ],
      "execution_count": 36,
      "outputs": [
        {
          "output_type": "stream",
          "text": [
            "Saving image test_dir_align_results/test_hzgg_0.jpg\n",
            "Saving image test_dir_align_results/test_hzgg_1.jpg\n",
            "Saving image test_dir_align_results/test_hzgg_2.jpg\n",
            "Saving image test_dir_align_results/Solvay_conference_1927_0.jpg\n",
            "Saving image test_dir_align_results/Solvay_conference_1927_1.jpg\n",
            "Saving image test_dir_align_results/Solvay_conference_1927_2.jpg\n",
            "Saving image test_dir_align_results/Solvay_conference_1927_3.jpg\n",
            "Saving image test_dir_align_results/Solvay_conference_1927_4.jpg\n",
            "Saving image test_dir_align_results/Solvay_conference_1927_5.jpg\n",
            "Saving image test_dir_align_results/Solvay_conference_1927_6.jpg\n",
            "Saving image test_dir_align_results/Solvay_conference_1927_7.jpg\n",
            "Saving image test_dir_align_results/Solvay_conference_1927_8.jpg\n",
            "Saving image test_dir_align_results/Solvay_conference_1927_9.jpg\n",
            "Saving image test_dir_align_results/Solvay_conference_1927_10.jpg\n",
            "Saving image test_dir_align_results/Solvay_conference_1927_11.jpg\n",
            "Saving image test_dir_align_results/Solvay_conference_1927_12.jpg\n",
            "Saving image test_dir_align_results/Solvay_conference_1927_13.jpg\n",
            "Saving image test_dir_align_results/Solvay_conference_1927_14.jpg\n",
            "Saving image test_dir_align_results/Solvay_conference_1927_15.jpg\n",
            "Saving image test_dir_align_results/Solvay_conference_1927_16.jpg\n",
            "Saving image test_dir_align_results/Solvay_conference_1927_17.jpg\n",
            "Saving image test_dir_align_results/Solvay_conference_1927_18.jpg\n",
            "Saving image test_dir_align_results/Solvay_conference_1927_19.jpg\n",
            "Saving image test_dir_align_results/Solvay_conference_1927_20.jpg\n",
            "Saving image test_dir_align_results/Solvay_conference_1927_21.jpg\n",
            "Saving image test_dir_align_results/Solvay_conference_1927_22.jpg\n",
            "Saving image test_dir_align_results/Solvay_conference_1927_23.jpg\n",
            "Saving image test_dir_align_results/Solvay_conference_1927_24.jpg\n",
            "Saving image test_dir_align_results/Solvay_conference_1927_25.jpg\n",
            "Saving image test_dir_align_results/Solvay_conference_1927_26.jpg\n",
            "Saving image test_dir_align_results/Solvay_conference_1927_27.jpg\n",
            "Saving image test_dir_align_results/Solvay_conference_1927_28.jpg\n",
            "Saving image test_dir_align_results/Aaron_Sorkin_0001.jpg\n",
            "Saving image test_dir_align_results/Aaron_Sorkin_0002.jpg\n",
            "Saving image test_dir_align_results/Aaron_Peirsol_0002.jpg\n",
            "Saving image test_dir_align_results/Aaron_Peirsol_0003.jpg\n",
            "Saving image test_dir_align_results/Adam_Mair_0001.jpg\n",
            "Saving image test_dir_align_results/Aaron_Peirsol_0004.jpg\n",
            "Saving image test_dir_align_results/00146_0.jpg\n",
            "Saving image test_dir_align_results/Abel_Pacheco_0003.jpg\n",
            "Saving image test_dir_align_results/Abdul_Majeed_Shobokshi_0001.jpg\n",
            "Saving image test_dir_align_results/Abdullah_0002.jpg\n",
            "Saving image test_dir_align_results/Aaron_Peirsol_0001.jpg\n",
            "Saving image test_dir_align_results/Abdel_Aziz_Al-Hakim_0001_0.jpg\n",
            "Saving image test_dir_align_results/Abdel_Aziz_Al-Hakim_0001_1.jpg\n",
            "Saving image test_dir_align_results/s4ekj9F.png\n",
            "Saving image test_dir_align_results/Abner_Martinez_0001.jpg\n",
            "Saving image test_dir_align_results/Abdullah_al-Attiyah_0001.jpg\n",
            "Saving image test_dir_align_results/Abdel_Nasser_Assidi_0001_0.jpg\n",
            "Saving image test_dir_align_results/Abdel_Nasser_Assidi_0001_1.jpg\n",
            "Saving image test_dir_align_results/Abdel_Nasser_Assidi_0001_2.jpg\n",
            "Saving image test_dir_align_results/Abdullah_0001.jpg\n",
            "Saving image test_dir_align_results/Abel_Pacheco_0001.jpg\n",
            "Saving image test_dir_align_results/Abdoulaye_Wade_0004.jpg\n",
            "Saving image test_dir_align_results/Abdul_Rahman_0001.jpg\n",
            "Saving image test_dir_align_results/Abdullah_Nasseef_0001.jpg\n",
            "Saving image test_dir_align_results/Abel_Pacheco_0004.jpg\n",
            "Saving image test_dir_align_results/Abdullah_al-Attiyah_0003.jpg\n",
            "Saving image test_dir_align_results/Abdullah_al-Attiyah_0002_0.jpg\n",
            "Saving image test_dir_align_results/Abdullah_al-Attiyah_0002_1.jpg\n",
            "Saving image test_dir_align_results/Abbas_Kiarostami_0001.jpg\n",
            "Saving image test_dir_align_results/Abdullah_0003.jpg\n",
            "Saving image test_dir_align_results/Abdel_Nasser_Assidi_0002_0.jpg\n",
            "Saving image test_dir_align_results/Abdel_Nasser_Assidi_0002_1.jpg\n",
            "Saving image test_dir_align_results/Abdullah_0004.jpg\n"
          ],
          "name": "stdout"
        }
      ]
    },
    {
      "cell_type": "markdown",
      "metadata": {
        "id": "OW8FONlDWDRw"
      },
      "source": [
        "restore"
      ]
    },
    {
      "cell_type": "code",
      "metadata": {
        "id": "u9W78kFlINqk",
        "outputId": "7d63d560-a48c-4ed2-9435-db25db5633e8",
        "colab": {
          "base_uri": "https://localhost:8080/",
          "height": 1000
        }
      },
      "source": [
        "!python test_enhance_dir_unalign.py --src_dir test_dir --results_dir test_unalign_results"
      ],
      "execution_count": 37,
      "outputs": [
        {
          "output_type": "stream",
          "text": [
            "/usr/local/lib/python3.6/dist-packages/torch/cuda/__init__.py:125: UserWarning: \n",
            "Tesla T4 with CUDA capability sm_75 is not compatible with the current PyTorch installation.\n",
            "The current PyTorch install supports CUDA capabilities sm_37 sm_50 sm_60 sm_70.\n",
            "If you want to use the Tesla T4 GPU with PyTorch, please check the instructions at https://pytorch.org/get-started/locally/\n",
            "\n",
            "  warnings.warn(incompatible_device_warn.format(device_name, capability, \" \".join(arch_list), device_name))\n",
            "model [EnhanceModel] was created\n",
            "Loading pretrained LQ face parsing network from ./pretrain_models/parse_multi_iter_90000.pth\n",
            "Loading pretrained PSFRGAN from ./pretrain_models/psfrgan_latest_net_G.pth\n",
            "======> Loading image test_dir/test_hzgg.jpg\n",
            "======> Saving aligned LQ faces to test_unalign_results/test_hzgg/LQ_faces\n",
            "100% 3/3 [00:00<00:00,  4.42it/s]\n",
            "======> Save parsing map and the enhanced faces.\n",
            "======> Paste the enhanced faces back to the original image.\n",
            "100% 3/3 [00:00<00:00,  7.42it/s]\n",
            "======> Save final result to test_unalign_results/test_hzgg/hq_final.jpg\n",
            "======> Loading image test_dir/Solvay_conference_1927.jpg\n",
            "======> Saving aligned LQ faces to test_unalign_results/Solvay_conference_1927/LQ_faces\n",
            "100% 29/29 [00:05<00:00,  4.98it/s]\n",
            "======> Save parsing map and the enhanced faces.\n",
            "======> Paste the enhanced faces back to the original image.\n",
            "100% 29/29 [00:20<00:00,  1.44it/s]\n",
            "======> Save final result to test_unalign_results/Solvay_conference_1927/hq_final.jpg\n",
            "======> Loading image test_dir/Aaron_Sorkin_0001.jpg\n",
            "======> Saving aligned LQ faces to test_unalign_results/Aaron_Sorkin_0001/LQ_faces\n",
            "100% 1/1 [00:00<00:00,  3.30it/s]\n",
            "======> Save parsing map and the enhanced faces.\n",
            "======> Paste the enhanced faces back to the original image.\n",
            "100% 1/1 [00:00<00:00, 52.68it/s]\n",
            "======> Save final result to test_unalign_results/Aaron_Sorkin_0001/hq_final.jpg\n",
            "======> Loading image test_dir/Aaron_Sorkin_0002.jpg\n",
            "======> Saving aligned LQ faces to test_unalign_results/Aaron_Sorkin_0002/LQ_faces\n",
            "100% 1/1 [00:00<00:00,  4.90it/s]\n",
            "======> Save parsing map and the enhanced faces.\n",
            "======> Paste the enhanced faces back to the original image.\n",
            "100% 1/1 [00:00<00:00, 51.41it/s]\n",
            "======> Save final result to test_unalign_results/Aaron_Sorkin_0002/hq_final.jpg\n",
            "======> Loading image test_dir/Aaron_Peirsol_0002.jpg\n",
            "======> Saving aligned LQ faces to test_unalign_results/Aaron_Peirsol_0002/LQ_faces\n",
            "100% 1/1 [00:00<00:00,  5.10it/s]\n",
            "======> Save parsing map and the enhanced faces.\n",
            "======> Paste the enhanced faces back to the original image.\n",
            "100% 1/1 [00:00<00:00, 46.98it/s]\n",
            "======> Save final result to test_unalign_results/Aaron_Peirsol_0002/hq_final.jpg\n",
            "======> Loading image test_dir/Aaron_Peirsol_0003.jpg\n",
            "======> Saving aligned LQ faces to test_unalign_results/Aaron_Peirsol_0003/LQ_faces\n",
            "100% 1/1 [00:00<00:00,  5.04it/s]\n",
            "======> Save parsing map and the enhanced faces.\n",
            "======> Paste the enhanced faces back to the original image.\n",
            "100% 1/1 [00:00<00:00, 54.09it/s]\n",
            "======> Save final result to test_unalign_results/Aaron_Peirsol_0003/hq_final.jpg\n",
            "======> Loading image test_dir/Adam_Mair_0001.jpg\n",
            "======> Saving aligned LQ faces to test_unalign_results/Adam_Mair_0001/LQ_faces\n",
            "100% 1/1 [00:00<00:00,  5.01it/s]\n",
            "======> Save parsing map and the enhanced faces.\n",
            "======> Paste the enhanced faces back to the original image.\n",
            "100% 1/1 [00:00<00:00, 54.86it/s]\n",
            "======> Save final result to test_unalign_results/Adam_Mair_0001/hq_final.jpg\n",
            "======> Loading image test_dir/Aaron_Peirsol_0004.jpg\n",
            "======> Saving aligned LQ faces to test_unalign_results/Aaron_Peirsol_0004/LQ_faces\n",
            "100% 1/1 [00:00<00:00,  5.05it/s]\n",
            "======> Save parsing map and the enhanced faces.\n",
            "======> Paste the enhanced faces back to the original image.\n",
            "100% 1/1 [00:00<00:00, 59.27it/s]\n",
            "======> Save final result to test_unalign_results/Aaron_Peirsol_0004/hq_final.jpg\n",
            "======> Loading image test_dir/00146_0.jpg\n",
            "======> Saving aligned LQ faces to test_unalign_results/00146_0/LQ_faces\n",
            "100% 1/1 [00:00<00:00,  5.06it/s]\n",
            "======> Save parsing map and the enhanced faces.\n",
            "======> Paste the enhanced faces back to the original image.\n",
            "100% 1/1 [00:00<00:00, 12.58it/s]\n",
            "======> Save final result to test_unalign_results/00146_0/hq_final.jpg\n",
            "======> Loading image test_dir/Abel_Pacheco_0003.jpg\n",
            "======> Saving aligned LQ faces to test_unalign_results/Abel_Pacheco_0003/LQ_faces\n",
            "100% 1/1 [00:00<00:00,  5.02it/s]\n",
            "======> Save parsing map and the enhanced faces.\n",
            "======> Paste the enhanced faces back to the original image.\n",
            "100% 1/1 [00:00<00:00, 56.83it/s]\n",
            "======> Save final result to test_unalign_results/Abel_Pacheco_0003/hq_final.jpg\n",
            "======> Loading image test_dir/Abdul_Majeed_Shobokshi_0001.jpg\n",
            "======> Saving aligned LQ faces to test_unalign_results/Abdul_Majeed_Shobokshi_0001/LQ_faces\n",
            "100% 1/1 [00:00<00:00,  5.05it/s]\n",
            "======> Save parsing map and the enhanced faces.\n",
            "======> Paste the enhanced faces back to the original image.\n",
            "100% 1/1 [00:00<00:00, 42.71it/s]\n",
            "======> Save final result to test_unalign_results/Abdul_Majeed_Shobokshi_0001/hq_final.jpg\n",
            "======> Loading image test_dir/Abdullah_0002.jpg\n",
            "======> Saving aligned LQ faces to test_unalign_results/Abdullah_0002/LQ_faces\n",
            "100% 1/1 [00:00<00:00,  5.04it/s]\n",
            "======> Save parsing map and the enhanced faces.\n",
            "======> Paste the enhanced faces back to the original image.\n",
            "100% 1/1 [00:00<00:00, 55.87it/s]\n",
            "======> Save final result to test_unalign_results/Abdullah_0002/hq_final.jpg\n",
            "======> Loading image test_dir/Aaron_Peirsol_0001.jpg\n",
            "======> Saving aligned LQ faces to test_unalign_results/Aaron_Peirsol_0001/LQ_faces\n",
            "100% 1/1 [00:00<00:00,  5.03it/s]\n",
            "======> Save parsing map and the enhanced faces.\n",
            "======> Paste the enhanced faces back to the original image.\n",
            "100% 1/1 [00:00<00:00, 56.51it/s]\n",
            "======> Save final result to test_unalign_results/Aaron_Peirsol_0001/hq_final.jpg\n",
            "======> Loading image test_dir/Abdel_Aziz_Al-Hakim_0001.jpg\n",
            "======> Saving aligned LQ faces to test_unalign_results/Abdel_Aziz_Al-Hakim_0001/LQ_faces\n",
            "100% 2/2 [00:00<00:00,  5.09it/s]\n",
            "======> Save parsing map and the enhanced faces.\n",
            "======> Paste the enhanced faces back to the original image.\n",
            "100% 2/2 [00:00<00:00, 57.10it/s]\n",
            "======> Save final result to test_unalign_results/Abdel_Aziz_Al-Hakim_0001/hq_final.jpg\n",
            "======> Loading image test_dir/s4ekj9F.png\n",
            "======> Saving aligned LQ faces to test_unalign_results/s4ekj9F/LQ_faces\n",
            "100% 1/1 [00:00<00:00,  4.99it/s]\n",
            "======> Save parsing map and the enhanced faces.\n",
            "======> Paste the enhanced faces back to the original image.\n",
            "100% 1/1 [00:00<00:00, 24.05it/s]\n",
            "======> Save final result to test_unalign_results/s4ekj9F/hq_final.jpg\n",
            "======> Loading image test_dir/Abner_Martinez_0001.jpg\n",
            "======> Saving aligned LQ faces to test_unalign_results/Abner_Martinez_0001/LQ_faces\n",
            "100% 1/1 [00:00<00:00,  4.99it/s]\n",
            "======> Save parsing map and the enhanced faces.\n",
            "======> Paste the enhanced faces back to the original image.\n",
            "100% 1/1 [00:00<00:00, 57.82it/s]\n",
            "======> Save final result to test_unalign_results/Abner_Martinez_0001/hq_final.jpg\n",
            "======> Loading image test_dir/Abdullah_al-Attiyah_0001.jpg\n",
            "======> Saving aligned LQ faces to test_unalign_results/Abdullah_al-Attiyah_0001/LQ_faces\n",
            "100% 1/1 [00:00<00:00,  5.00it/s]\n",
            "======> Save parsing map and the enhanced faces.\n",
            "======> Paste the enhanced faces back to the original image.\n",
            "100% 1/1 [00:00<00:00, 58.93it/s]\n",
            "======> Save final result to test_unalign_results/Abdullah_al-Attiyah_0001/hq_final.jpg\n",
            "======> Loading image test_dir/Abdel_Nasser_Assidi_0001.jpg\n",
            "======> Saving aligned LQ faces to test_unalign_results/Abdel_Nasser_Assidi_0001/LQ_faces\n",
            "100% 3/3 [00:00<00:00,  5.04it/s]\n",
            "======> Save parsing map and the enhanced faces.\n",
            "======> Paste the enhanced faces back to the original image.\n",
            "100% 3/3 [00:00<00:00, 55.39it/s]\n",
            "======> Save final result to test_unalign_results/Abdel_Nasser_Assidi_0001/hq_final.jpg\n",
            "======> Loading image test_dir/Abdullah_0001.jpg\n",
            "======> Saving aligned LQ faces to test_unalign_results/Abdullah_0001/LQ_faces\n",
            "100% 1/1 [00:00<00:00,  5.03it/s]\n",
            "======> Save parsing map and the enhanced faces.\n",
            "======> Paste the enhanced faces back to the original image.\n",
            "100% 1/1 [00:00<00:00, 58.84it/s]\n",
            "======> Save final result to test_unalign_results/Abdullah_0001/hq_final.jpg\n",
            "======> Loading image test_dir/Abel_Pacheco_0001.jpg\n",
            "======> Saving aligned LQ faces to test_unalign_results/Abel_Pacheco_0001/LQ_faces\n",
            "100% 1/1 [00:00<00:00,  5.01it/s]\n",
            "======> Save parsing map and the enhanced faces.\n",
            "======> Paste the enhanced faces back to the original image.\n",
            "100% 1/1 [00:00<00:00, 56.90it/s]\n",
            "======> Save final result to test_unalign_results/Abel_Pacheco_0001/hq_final.jpg\n",
            "======> Loading image test_dir/Abdoulaye_Wade_0004.jpg\n",
            "======> Saving aligned LQ faces to test_unalign_results/Abdoulaye_Wade_0004/LQ_faces\n",
            "100% 1/1 [00:00<00:00,  5.08it/s]\n",
            "======> Save parsing map and the enhanced faces.\n",
            "======> Paste the enhanced faces back to the original image.\n",
            "100% 1/1 [00:00<00:00, 37.65it/s]\n",
            "======> Save final result to test_unalign_results/Abdoulaye_Wade_0004/hq_final.jpg\n",
            "======> Loading image test_dir/Abdul_Rahman_0001.jpg\n",
            "======> Saving aligned LQ faces to test_unalign_results/Abdul_Rahman_0001/LQ_faces\n",
            "100% 1/1 [00:00<00:00,  5.05it/s]\n",
            "======> Save parsing map and the enhanced faces.\n",
            "======> Paste the enhanced faces back to the original image.\n",
            "100% 1/1 [00:00<00:00, 59.77it/s]\n",
            "======> Save final result to test_unalign_results/Abdul_Rahman_0001/hq_final.jpg\n",
            "======> Loading image test_dir/Abdullah_Nasseef_0001.jpg\n",
            "======> Saving aligned LQ faces to test_unalign_results/Abdullah_Nasseef_0001/LQ_faces\n",
            "100% 1/1 [00:00<00:00,  5.09it/s]\n",
            "======> Save parsing map and the enhanced faces.\n",
            "======> Paste the enhanced faces back to the original image.\n",
            "100% 1/1 [00:00<00:00, 58.46it/s]\n",
            "======> Save final result to test_unalign_results/Abdullah_Nasseef_0001/hq_final.jpg\n",
            "======> Loading image test_dir/Abel_Pacheco_0004.jpg\n",
            "======> Saving aligned LQ faces to test_unalign_results/Abel_Pacheco_0004/LQ_faces\n",
            "100% 1/1 [00:00<00:00,  4.95it/s]\n",
            "======> Save parsing map and the enhanced faces.\n",
            "======> Paste the enhanced faces back to the original image.\n",
            "100% 1/1 [00:00<00:00, 54.60it/s]\n",
            "======> Save final result to test_unalign_results/Abel_Pacheco_0004/hq_final.jpg\n",
            "======> Loading image test_dir/Abdullah_al-Attiyah_0003.jpg\n",
            "======> Saving aligned LQ faces to test_unalign_results/Abdullah_al-Attiyah_0003/LQ_faces\n",
            "100% 1/1 [00:00<00:00,  4.92it/s]\n",
            "======> Save parsing map and the enhanced faces.\n",
            "======> Paste the enhanced faces back to the original image.\n",
            "100% 1/1 [00:00<00:00, 57.05it/s]\n",
            "======> Save final result to test_unalign_results/Abdullah_al-Attiyah_0003/hq_final.jpg\n",
            "======> Loading image test_dir/Abdullah_al-Attiyah_0002.jpg\n",
            "======> Saving aligned LQ faces to test_unalign_results/Abdullah_al-Attiyah_0002/LQ_faces\n",
            "100% 2/2 [00:00<00:00,  5.06it/s]\n",
            "======> Save parsing map and the enhanced faces.\n",
            "======> Paste the enhanced faces back to the original image.\n",
            "100% 2/2 [00:00<00:00, 46.92it/s]\n",
            "======> Save final result to test_unalign_results/Abdullah_al-Attiyah_0002/hq_final.jpg\n",
            "======> Loading image test_dir/Abbas_Kiarostami_0001.jpg\n",
            "======> Saving aligned LQ faces to test_unalign_results/Abbas_Kiarostami_0001/LQ_faces\n",
            "100% 1/1 [00:00<00:00,  5.09it/s]\n",
            "======> Save parsing map and the enhanced faces.\n",
            "======> Paste the enhanced faces back to the original image.\n",
            "100% 1/1 [00:00<00:00, 57.54it/s]\n",
            "======> Save final result to test_unalign_results/Abbas_Kiarostami_0001/hq_final.jpg\n",
            "======> Loading image test_dir/Abdullah_0003.jpg\n",
            "======> Saving aligned LQ faces to test_unalign_results/Abdullah_0003/LQ_faces\n",
            "100% 1/1 [00:00<00:00,  5.06it/s]\n",
            "======> Save parsing map and the enhanced faces.\n",
            "======> Paste the enhanced faces back to the original image.\n",
            "100% 1/1 [00:00<00:00, 58.28it/s]\n",
            "======> Save final result to test_unalign_results/Abdullah_0003/hq_final.jpg\n",
            "======> Loading image test_dir/Abdel_Nasser_Assidi_0002.jpg\n",
            "======> Saving aligned LQ faces to test_unalign_results/Abdel_Nasser_Assidi_0002/LQ_faces\n",
            "100% 2/2 [00:00<00:00,  5.12it/s]\n",
            "======> Save parsing map and the enhanced faces.\n",
            "======> Paste the enhanced faces back to the original image.\n",
            "100% 2/2 [00:00<00:00, 58.16it/s]\n",
            "======> Save final result to test_unalign_results/Abdel_Nasser_Assidi_0002/hq_final.jpg\n",
            "======> Loading image test_dir/Abdullah_0004.jpg\n",
            "======> Saving aligned LQ faces to test_unalign_results/Abdullah_0004/LQ_faces\n",
            "100% 1/1 [00:00<00:00,  4.95it/s]\n",
            "======> Save parsing map and the enhanced faces.\n",
            "======> Paste the enhanced faces back to the original image.\n",
            "100% 1/1 [00:00<00:00, 60.09it/s]\n",
            "======> Save final result to test_unalign_results/Abdullah_0004/hq_final.jpg\n"
          ],
          "name": "stdout"
        }
      ]
    },
    {
      "cell_type": "markdown",
      "metadata": {
        "id": "Uq08o_2eWEWy"
      },
      "source": [
        "rename"
      ]
    },
    {
      "cell_type": "code",
      "metadata": {
        "id": "YfFOZewPRk4P",
        "outputId": "048c8efc-97f3-479b-e33a-4120f1557fe0",
        "colab": {
          "base_uri": "https://localhost:8080/",
          "height": 33
        }
      },
      "source": [
        "#im doing this like this so i dont have to modify the original code, \n",
        "import os\n",
        "import sys\n",
        "import glob\n",
        "from tqdm import tqdm\n",
        "\n",
        "paths = glob.glob(\"/content/PSFRGAN/test_unalign_results/**/*hq_final.jpg\")\n",
        "for p in tqdm(paths):\n",
        "  test = p[38:]\n",
        "  test = test.replace(\"/hq_final\", \"_hq\")\n",
        "  test = \"/content/PSFRGAN/output/\" + test\n",
        "  os.rename(p,test)"
      ],
      "execution_count": 38,
      "outputs": [
        {
          "output_type": "stream",
          "text": [
            "100%|██████████| 30/30 [00:00<00:00, 9917.18it/s]\n"
          ],
          "name": "stderr"
        }
      ]
    },
    {
      "cell_type": "markdown",
      "metadata": {
        "id": "Up3UlAD1WGZ3"
      },
      "source": [
        "export"
      ]
    },
    {
      "cell_type": "code",
      "metadata": {
        "id": "a802426yIgsB",
        "outputId": "30d75485-d7a0-431d-e90b-181235b24fb6",
        "colab": {
          "base_uri": "https://localhost:8080/",
          "height": 553
        }
      },
      "source": [
        "%cd /content/PSFRGAN/\n",
        "!zip -0 -r \"/content/drive/My Drive/output_HQ.zip\" ./output\n",
        "!echo done"
      ],
      "execution_count": 39,
      "outputs": [
        {
          "output_type": "stream",
          "text": [
            "/content/PSFRGAN\n",
            "updating: output/ (stored 0%)\n",
            "updating: output/Solvay_conference_1927_hq.jpg (stored 0%)\n",
            "updating: output/Aaron_Peirsol_0003_hq.jpg (stored 0%)\n",
            "updating: output/Aaron_Sorkin_0001_hq.jpg (stored 0%)\n",
            "updating: output/Abdullah_al-Attiyah_0001_hq.jpg (stored 0%)\n",
            "updating: output/Abdul_Majeed_Shobokshi_0001_hq.jpg (stored 0%)\n",
            "updating: output/Aaron_Sorkin_0002_hq.jpg (stored 0%)\n",
            "updating: output/Abdel_Nasser_Assidi_0002_hq.jpg (stored 0%)\n",
            "updating: output/Abel_Pacheco_0004_hq.jpg (stored 0%)\n",
            "updating: output/Aaron_Peirsol_0002_hq.jpg (stored 0%)\n",
            "updating: output/Aaron_Peirsol_0004_hq.jpg (stored 0%)\n",
            "updating: output/Adam_Mair_0001_hq.jpg (stored 0%)\n",
            "updating: output/test_hzgg_hq.jpg (stored 0%)\n",
            "updating: output/Abdullah_Nasseef_0001_hq.jpg (stored 0%)\n",
            "updating: output/Abdullah_al-Attiyah_0002_hq.jpg (stored 0%)\n",
            "updating: output/00146_0_hq.jpg (stored 0%)\n",
            "updating: output/Abdullah_al-Attiyah_0003_hq.jpg (stored 0%)\n",
            "updating: output/Abdullah_0001_hq.jpg (stored 0%)\n",
            "updating: output/Abbas_Kiarostami_0001_hq.jpg (stored 0%)\n",
            "updating: output/Abner_Martinez_0001_hq.jpg (stored 0%)\n",
            "updating: output/Aaron_Peirsol_0001_hq.jpg (stored 0%)\n",
            "updating: output/Abdullah_0002_hq.jpg (stored 0%)\n",
            "updating: output/Abel_Pacheco_0003_hq.jpg (stored 0%)\n",
            "updating: output/Abdul_Rahman_0001_hq.jpg (stored 0%)\n",
            "updating: output/Abdullah_0003_hq.jpg (stored 0%)\n",
            "updating: output/Abdullah_0004_hq.jpg (stored 0%)\n",
            "updating: output/Abdel_Aziz_Al-Hakim_0001_hq.jpg (stored 0%)\n",
            "updating: output/Abel_Pacheco_0001_hq.jpg (stored 0%)\n",
            "updating: output/Abdel_Nasser_Assidi_0001_hq.jpg (stored 0%)\n",
            "updating: output/Abdoulaye_Wade_0004_hq.jpg (stored 0%)\n",
            "updating: output/s4ekj9F_hq.jpg (stored 0%)\n",
            "done\n"
          ],
          "name": "stdout"
        }
      ]
    }
  ]
}