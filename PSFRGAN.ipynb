{
  "nbformat": 4,
  "nbformat_minor": 0,
  "metadata": {
    "colab": {
      "name": "PSFRGAN.ipynb",
      "provenance": [],
      "collapsed_sections": [],
      "authorship_tag": "ABX9TyP0RPLi29U00fZlJFbwzKRY",
      "include_colab_link": true
    },
    "kernelspec": {
      "name": "python3",
      "display_name": "Python 3"
    },
    "accelerator": "GPU"
  },
  "cells": [
    {
      "cell_type": "markdown",
      "metadata": {
        "id": "view-in-github",
        "colab_type": "text"
      },
      "source": [
        "<a href=\"https://colab.research.google.com/github/test1230-lab/PSFRGAN_COLAB/blob/master/PSFRGAN.ipynb\" target=\"_parent\"><img src=\"https://colab.research.google.com/assets/colab-badge.svg\" alt=\"Open In Colab\"/></a>"
      ]
    },
    {
      "cell_type": "code",
      "metadata": {
        "id": "Hk9dqGZuIpYE"
      },
      "source": [
        "!nvidia-smi"
      ],
      "execution_count": null,
      "outputs": []
    },
    {
      "cell_type": "code",
      "metadata": {
        "id": "dOCXhFQi1Vjd"
      },
      "source": [
        "!git clone https://github.com/chaofengc/PSFRGAN\n",
        "%cd /content/PSFRGAN\n",
        "!mkdir test_dir_align_results\n",
        "!mkdir test_dir_enhance_results\n",
        "!rm -r test_dir"
      ],
      "execution_count": null,
      "outputs": []
    },
    {
      "cell_type": "code",
      "metadata": {
        "id": "_PpzKV774NPk"
      },
      "source": [
        "!wget https://dl.dropbox.com/s/uh1bw7kxo9qrrnr/pretrain_models.zip\n",
        "!unzip /content/PSFRGAN/pretrain_models.zip "
      ],
      "execution_count": null,
      "outputs": []
    },
    {
      "cell_type": "code",
      "metadata": {
        "id": "ABng_n02_NXK"
      },
      "source": [
        "!pip install tensorflow==1.15.0\n",
        "!pip install tensorboard==1.15.0\n",
        "!pip install tensorboardX==2.1\n",
        "!pip install scikit-image==0.17.2\n",
        "!pip install scipy==1.4.1\n",
        "!pip install dlib\n",
        "!pip install torch==1.6.0+cu92 torchvision==0.7.0+cu92 -f https://download.pytorch.org/whl/torch_stable.html\n",
        "!pip install imgaug"
      ],
      "execution_count": null,
      "outputs": []
    },
    {
      "cell_type": "code",
      "metadata": {
        "id": "8clRdKgEFad3"
      },
      "source": [
        "from google.colab import drive\n",
        "drive.mount(\"/content/drive\", force_remount=True)"
      ],
      "execution_count": null,
      "outputs": []
    },
    {
      "cell_type": "code",
      "metadata": {
        "id": "FdXnocWyFrUn"
      },
      "source": [
        "!unzip \"/content/drive/My Drive/test_dir.zip\" -d /content/PSFRGAN"
      ],
      "execution_count": null,
      "outputs": []
    },
    {
      "cell_type": "code",
      "metadata": {
        "id": "7Bh7QdSuMIzN"
      },
      "source": [
        "!python align_and_crop_dir.py --src_dir test_dir --results_dir test_dir_align_results"
      ],
      "execution_count": null,
      "outputs": []
    },
    {
      "cell_type": "code",
      "metadata": {
        "id": "u9W78kFlINqk"
      },
      "source": [
        "!python test_enhance_dir_align.py --src_dir test_dir_align_results --results_dir test_dir_enhance_results"
      ],
      "execution_count": null,
      "outputs": []
    },
    {
      "cell_type": "code",
      "metadata": {
        "id": "a802426yIgsB"
      },
      "source": [
        "%cd /content/PSFRGAN/\n",
        "!zip -0 -r \"/content/drive/My Drive/output_HQ.zip\" ./test_dir_enhance_results\n",
        "!echo done"
      ],
      "execution_count": null,
      "outputs": []
    }
  ]
}