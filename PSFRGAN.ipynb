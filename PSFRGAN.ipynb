{
  "nbformat": 4,
  "nbformat_minor": 0,
  "metadata": {
    "colab": {
      "name": "PSFRGAN.ipynb",
      "provenance": [],
      "collapsed_sections": [],
      "toc_visible": true,
      "authorship_tag": "ABX9TyNCIHWdVzVtj1mxSr4K5hzC",
      "include_colab_link": true
    },
    "kernelspec": {
      "name": "python3",
      "display_name": "Python 3"
    },
    "accelerator": "GPU"
  },
  "cells": [
    {
      "cell_type": "markdown",
      "metadata": {
        "id": "view-in-github",
        "colab_type": "text"
      },
      "source": [
        "<a href=\"https://colab.research.google.com/github/test1230-lab/PSFRGAN_COLAB/blob/master/PSFRGAN.ipynb\" target=\"_parent\"><img src=\"https://colab.research.google.com/assets/colab-badge.svg\" alt=\"Open In Colab\"/></a>"
      ]
    },
    {
      "cell_type": "markdown",
      "metadata": {
        "id": "iOlQKYLPVfiy"
      },
      "source": [
        "# **PSFRGAN Colab**\n",
        "\n"
      ]
    },
    {
      "cell_type": "markdown",
      "metadata": {
        "id": "PNmAaGHMVy_a"
      },
      "source": [
        "check gpu"
      ]
    },
    {
      "cell_type": "code",
      "metadata": {
        "id": "Hk9dqGZuIpYE",
        "outputId": "1e6f7cc8-2a75-4a7e-e358-3d7d74c65665",
        "colab": {
          "base_uri": "https://localhost:8080/",
          "height": 342
        }
      },
      "source": [
        "!nvidia-smi"
      ],
      "execution_count": 1,
      "outputs": [
        {
          "output_type": "stream",
          "text": [
            "Fri Sep 25 22:29:43 2020       \n",
            "+-----------------------------------------------------------------------------+\n",
            "| NVIDIA-SMI 450.66       Driver Version: 418.67       CUDA Version: 10.1     |\n",
            "|-------------------------------+----------------------+----------------------+\n",
            "| GPU  Name        Persistence-M| Bus-Id        Disp.A | Volatile Uncorr. ECC |\n",
            "| Fan  Temp  Perf  Pwr:Usage/Cap|         Memory-Usage | GPU-Util  Compute M. |\n",
            "|                               |                      |               MIG M. |\n",
            "|===============================+======================+======================|\n",
            "|   0  Tesla T4            Off  | 00000000:00:04.0 Off |                    0 |\n",
            "| N/A   38C    P8     9W /  70W |      0MiB / 15079MiB |      0%      Default |\n",
            "|                               |                      |                 ERR! |\n",
            "+-------------------------------+----------------------+----------------------+\n",
            "                                                                               \n",
            "+-----------------------------------------------------------------------------+\n",
            "| Processes:                                                                  |\n",
            "|  GPU   GI   CI        PID   Type   Process name                  GPU Memory |\n",
            "|        ID   ID                                                   Usage      |\n",
            "|=============================================================================|\n",
            "|  No running processes found                                                 |\n",
            "+-----------------------------------------------------------------------------+\n"
          ],
          "name": "stdout"
        }
      ]
    },
    {
      "cell_type": "markdown",
      "metadata": {
        "id": "-8U1BVIMV06P"
      },
      "source": [
        "make dirs and clone repo"
      ]
    },
    {
      "cell_type": "code",
      "metadata": {
        "id": "dOCXhFQi1Vjd"
      },
      "source": [
        "!git clone https://github.com/chaofengc/PSFRGAN\n",
        "%cd /content/PSFRGAN\n",
        "!mkdir test_dir_align_results\n",
        "!mkdir test_dir_unalign_results\n",
        "!mkdir test_dir_enhance_results\n",
        "!mkdir output\n",
        "!rm -r test_dir\n",
        "!mkdir test_dir"
      ],
      "execution_count": null,
      "outputs": []
    },
    {
      "cell_type": "markdown",
      "metadata": {
        "id": "-lzPYGU6V4KS"
      },
      "source": [
        "get model and unzip"
      ]
    },
    {
      "cell_type": "code",
      "metadata": {
        "id": "_PpzKV774NPk"
      },
      "source": [
        "!wget https://dl.dropbox.com/s/uh1bw7kxo9qrrnr/pretrain_models.zip\n",
        "!unzip /content/PSFRGAN/pretrain_models.zip "
      ],
      "execution_count": null,
      "outputs": []
    },
    {
      "cell_type": "markdown",
      "metadata": {
        "id": "yTODOMjbV7eA"
      },
      "source": [
        "get deps"
      ]
    },
    {
      "cell_type": "code",
      "metadata": {
        "id": "ABng_n02_NXK"
      },
      "source": [
        "!pip install tensorflow==1.15.0\n",
        "!pip install tensorboard==1.15.0\n",
        "!pip install tensorboardX==2.1\n",
        "!pip install scikit-image==0.17.2\n",
        "!pip install scipy==1.4.1\n",
        "!pip install dlib\n",
        "!pip install torch==1.6.0+cu92 torchvision==0.7.0+cu92 -f https://download.pytorch.org/whl/torch_stable.html\n",
        "!pip install imgaug"
      ],
      "execution_count": null,
      "outputs": []
    },
    {
      "cell_type": "markdown",
      "metadata": {
        "id": "cjcQpVvhV8gu"
      },
      "source": [
        "mount gdrive"
      ]
    },
    {
      "cell_type": "code",
      "metadata": {
        "id": "8clRdKgEFad3"
      },
      "source": [
        "from google.colab import drive\n",
        "drive.mount(\"/content/drive\", force_remount=True)"
      ],
      "execution_count": null,
      "outputs": []
    },
    {
      "cell_type": "markdown",
      "metadata": {
        "id": "BZdvBh0mV-1J"
      },
      "source": [
        "unzip images"
      ]
    },
    {
      "cell_type": "code",
      "metadata": {
        "id": "FdXnocWyFrUn"
      },
      "source": [
        "!unzip \"/content/drive/My Drive/test_dir.zip\" -d /content/PSFRGAN/testdir/"
      ],
      "execution_count": null,
      "outputs": []
    },
    {
      "cell_type": "markdown",
      "metadata": {
        "id": "1rySwxoXWBbz"
      },
      "source": [
        "crop and align"
      ]
    },
    {
      "cell_type": "code",
      "metadata": {
        "id": "7Bh7QdSuMIzN"
      },
      "source": [
        "!python align_and_crop_dir.py --src_dir test_dir --results_dir test_dir_align_results"
      ],
      "execution_count": null,
      "outputs": []
    },
    {
      "cell_type": "markdown",
      "metadata": {
        "id": "OW8FONlDWDRw"
      },
      "source": [
        "restore"
      ]
    },
    {
      "cell_type": "code",
      "metadata": {
        "id": "u9W78kFlINqk"
      },
      "source": [
        "!python test_enhance_dir_unalign.py --src_dir test_dir --results_dir test_unalign_results"
      ],
      "execution_count": null,
      "outputs": []
    },
    {
      "cell_type": "markdown",
      "metadata": {
        "id": "Uq08o_2eWEWy"
      },
      "source": [
        "rename"
      ]
    },
    {
      "cell_type": "code",
      "metadata": {
        "id": "YfFOZewPRk4P"
      },
      "source": [
        "#im doing this like this so i dont have to modify the original code, \n",
        "import os\n",
        "import sys\n",
        "import glob\n",
        "from tqdm import tqdm\n",
        "\n",
        "paths = glob.glob(\"/content/PSFRGAN/test_unalign_results/**/*hq_final.jpg\")\n",
        "for p in tqdm(paths):\n",
        "  test = p[38:]\n",
        "  test = test.replace(\"/hq_final\", \"_hq\")\n",
        "  test = \"/content/PSFRGAN/output/\" + test\n",
        "  os.rename(p,test)"
      ],
      "execution_count": null,
      "outputs": []
    },
    {
      "cell_type": "markdown",
      "metadata": {
        "id": "Up3UlAD1WGZ3"
      },
      "source": [
        "export"
      ]
    },
    {
      "cell_type": "code",
      "metadata": {
        "id": "a802426yIgsB"
      },
      "source": [
        "%cd /content/PSFRGAN/\n",
        "!zip -0 -r \"/content/drive/My Drive/output_HQ.zip\" ./output\n",
        "!echo done"
      ],
      "execution_count": null,
      "outputs": []
    }
  ]
}