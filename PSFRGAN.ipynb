{
  "nbformat": 4,
  "nbformat_minor": 0,
  "metadata": {
    "colab": {
      "name": "PSFRGAN.ipynb",
      "provenance": [],
      "collapsed_sections": [],
      "authorship_tag": "ABX9TyPyBDPOxLtaU3TCHPlLdz+6",
      "include_colab_link": true
    },
    "kernelspec": {
      "name": "python3",
      "display_name": "Python 3"
    },
    "accelerator": "GPU"
  },
  "cells": [
    {
      "cell_type": "markdown",
      "metadata": {
        "id": "view-in-github",
        "colab_type": "text"
      },
      "source": [
        "<a href=\"https://colab.research.google.com/github/test1230-lab/PSFRGAN_COLAB/blob/master/PSFRGAN.ipynb\" target=\"_parent\"><img src=\"https://colab.research.google.com/assets/colab-badge.svg\" alt=\"Open In Colab\"/></a>"
      ]
    },
    {
      "cell_type": "code",
      "metadata": {
        "id": "Hk9dqGZuIpYE"
      },
      "source": [
        "!nvidia-smi"
      ],
      "execution_count": null,
      "outputs": []
    },
    {
      "cell_type": "code",
      "metadata": {
        "id": "dOCXhFQi1Vjd"
      },
      "source": [
        "!git clone https://github.com/chaofengc/PSFRGAN\n",
        "%cd /content/PSFRGAN\n",
        "!mkdir test_dir_align_results\n",
        "!mkdir test_dir_enhance_results\n",
        "!rm -r test_dir"
      ],
      "execution_count": null,
      "outputs": []
    },
    {
      "cell_type": "code",
      "metadata": {
        "id": "_PpzKV774NPk"
      },
      "source": [
        "!wget https://dl.dropbox.com/s/uh1bw7kxo9qrrnr/pretrain_models.zip\n",
        "!unzip /content/PSFRGAN/pretrain_models.zip "
      ],
      "execution_count": null,
      "outputs": []
    },
    {
      "cell_type": "code",
      "metadata": {
        "id": "ABng_n02_NXK"
      },
      "source": [
        "!pip install tensorflow==1.15.0\n",
        "!pip install tensorboard==1.15.0\n",
        "!pip install tensorboardX==2.1\n",
        "!pip install scikit-image==0.17.2\n",
        "!pip install scipy==1.4.1\n",
        "!pip install dlib\n",
        "!pip install torch==1.6.0+cu92 torchvision==0.7.0+cu92 -f https://download.pytorch.org/whl/torch_stable.html\n",
        "!pip install imgaug"
      ],
      "execution_count": null,
      "outputs": []
    },
    {
      "cell_type": "code",
      "metadata": {
        "id": "8clRdKgEFad3"
      },
      "source": [
        "from google.colab import drive\n",
        "drive.mount(\"/content/drive\", force_remount=True)\n"
      ],
      "execution_count": null,
      "outputs": []
    },
    {
      "cell_type": "code",
      "metadata": {
        "id": "FdXnocWyFrUn"
      },
      "source": [
        "!unzip \"/content/drive/My Drive/test_dir.zip\" -d /content/PSFRGAN"
      ],
      "execution_count": null,
      "outputs": []
    },
    {
      "cell_type": "code",
      "metadata": {
        "id": "7Bh7QdSuMIzN"
      },
      "source": [
        "!python align_and_crop_dir.py --src_dir test_dir --results_dir test_dir_align_results"
      ],
      "execution_count": null,
      "outputs": []
    },
    {
      "cell_type": "code",
      "metadata": {
        "id": "u9W78kFlINqk"
      },
      "source": [
        "!python test_enhance_dir_align.py --src_dir test_dir_align_results --results_dir test_dir_enhance_results"
      ],
      "execution_count": null,
      "outputs": []
    },
    {
      "cell_type": "code",
      "metadata": {
        "id": "a802426yIgsB",
        "outputId": "600452d6-a253-41c2-bc6a-e139bf5f6e81",
        "colab": {
          "base_uri": "https://localhost:8080/",
          "height": 1000
        }
      },
      "source": [
        "%cd /content/PSFRGAN/test_dir_enhance_results/\n",
        "!ls\n",
        "\n",
        "!zip -r \"/content/drive/My Drive/output_HQ.zip\" ./hq \n",
        "!echo done"
      ],
      "execution_count": 21,
      "outputs": [
        {
          "output_type": "stream",
          "text": [
            "/content/PSFRGAN/test_dir_enhance_results\n",
            "hq  lq\tparse  sr\n",
            "  adding: hq/ (stored 0%)\n",
            "  adding: hq/Abdel_Nasser_Assidi_0001_2.jpg (deflated 2%)\n",
            "  adding: hq/Aaron_Sorkin_0001.jpg (deflated 1%)\n",
            "  adding: hq/Aaron_Sorkin_0002.jpg (deflated 1%)\n",
            "  adding: hq/Aaron_Peirsol_0002.jpg (deflated 1%)\n",
            "  adding: hq/Solvay_conference_1927_20.jpg (deflated 1%)\n",
            "  adding: hq/Abdullah_al-Attiyah_0002_1.jpg (deflated 8%)\n",
            "  adding: hq/Aaron_Peirsol_0003.jpg (deflated 1%)\n",
            "  adding: hq/Adam_Mair_0001.jpg (deflated 1%)\n",
            "  adding: hq/Abdel_Aziz_Al-Hakim_0001_0.jpg (deflated 1%)\n",
            "  adding: hq/Aaron_Peirsol_0004.jpg (deflated 1%)\n",
            "  adding: hq/Solvay_conference_1927_14.jpg (deflated 1%)\n",
            "  adding: hq/test_hzgg_2.jpg (deflated 1%)\n",
            "  adding: hq/Solvay_conference_1927_16.jpg (deflated 1%)\n",
            "  adding: hq/Solvay_conference_1927_23.jpg (deflated 1%)\n",
            "  adding: hq/00146_0.jpg (deflated 3%)\n",
            "  adding: hq/Abdel_Nasser_Assidi_0002_1.jpg (deflated 6%)\n",
            "  adding: hq/Solvay_conference_1927_15.jpg (deflated 7%)\n",
            "  adding: hq/Solvay_conference_1927_28.jpg (deflated 1%)\n",
            "  adding: hq/Abdel_Aziz_Al-Hakim_0001_1.jpg (deflated 2%)\n",
            "  adding: hq/Abel_Pacheco_0003.jpg (deflated 1%)\n",
            "  adding: hq/Abdul_Majeed_Shobokshi_0001.jpg (deflated 1%)\n",
            "  adding: hq/Solvay_conference_1927_3.jpg (deflated 1%)\n",
            "  adding: hq/Abdullah_0002.jpg (deflated 1%)\n",
            "  adding: hq/Aaron_Peirsol_0001.jpg (deflated 1%)\n",
            "  adding: hq/Abdel_Nasser_Assidi_0002_0.jpg (deflated 1%)\n",
            "  adding: hq/test_hzgg_0.jpg (deflated 1%)\n",
            "  adding: hq/test_hzgg_1.jpg (deflated 1%)\n",
            "  adding: hq/Solvay_conference_1927_24.jpg (deflated 1%)\n",
            "  adding: hq/Solvay_conference_1927_17.jpg (deflated 3%)\n",
            "  adding: hq/Solvay_conference_1927_2.jpg (deflated 1%)\n",
            "  adding: hq/s4ekj9F.png (deflated 0%)\n",
            "  adding: hq/Solvay_conference_1927_25.jpg (deflated 1%)\n",
            "  adding: hq/Solvay_conference_1927_22.jpg (deflated 1%)\n",
            "  adding: hq/Abner_Martinez_0001.jpg (deflated 1%)\n",
            "  adding: hq/Solvay_conference_1927_9.jpg (deflated 1%)\n",
            "  adding: hq/Solvay_conference_1927_7.jpg (deflated 1%)\n",
            "  adding: hq/Solvay_conference_1927_6.jpg (deflated 1%)\n",
            "  adding: hq/Solvay_conference_1927_27.jpg (deflated 1%)\n",
            "  adding: hq/Abdullah_al-Attiyah_0001.jpg (deflated 1%)\n",
            "  adding: hq/Abdullah_al-Attiyah_0002_0.jpg (deflated 1%)\n",
            "  adding: hq/Solvay_conference_1927_19.jpg (deflated 1%)\n",
            "  adding: hq/Abdullah_0001.jpg (deflated 2%)\n",
            "  adding: hq/Solvay_conference_1927_1.jpg (deflated 1%)\n",
            "  adding: hq/Abel_Pacheco_0001.jpg (deflated 1%)\n",
            "  adding: hq/Abdoulaye_Wade_0004.jpg (deflated 1%)\n",
            "  adding: hq/Solvay_conference_1927_5.jpg (deflated 1%)\n",
            "  adding: hq/Abdel_Nasser_Assidi_0001_0.jpg (deflated 2%)\n",
            "  adding: hq/Abdul_Rahman_0001.jpg (deflated 1%)\n",
            "  adding: hq/Abdullah_Nasseef_0001.jpg (deflated 1%)\n",
            "  adding: hq/Solvay_conference_1927_4.jpg (deflated 1%)\n",
            "  adding: hq/Abel_Pacheco_0004.jpg (deflated 1%)\n",
            "  adding: hq/Abdullah_al-Attiyah_0003.jpg (deflated 1%)\n",
            "  adding: hq/Solvay_conference_1927_12.jpg (deflated 1%)\n",
            "  adding: hq/Solvay_conference_1927_0.jpg (deflated 1%)\n",
            "  adding: hq/Solvay_conference_1927_11.jpg (deflated 1%)\n",
            "  adding: hq/Solvay_conference_1927_26.jpg (deflated 1%)\n",
            "  adding: hq/Solvay_conference_1927_8.jpg (deflated 1%)\n",
            "  adding: hq/Abbas_Kiarostami_0001.jpg (deflated 1%)\n",
            "  adding: hq/Abdullah_0003.jpg (deflated 2%)\n",
            "  adding: hq/Solvay_conference_1927_10.jpg (deflated 1%)\n",
            "  adding: hq/Solvay_conference_1927_18.jpg (deflated 1%)\n",
            "  adding: hq/Abdullah_0004.jpg (deflated 1%)\n",
            "  adding: hq/Abdel_Nasser_Assidi_0001_1.jpg (deflated 1%)\n",
            "  adding: hq/Solvay_conference_1927_13.jpg (deflated 1%)\n",
            "  adding: hq/Solvay_conference_1927_21.jpg (deflated 1%)\n",
            "done\n"
          ],
          "name": "stdout"
        }
      ]
    }
  ]
}